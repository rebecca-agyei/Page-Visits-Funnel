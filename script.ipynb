{
 "cells": [
  {
   "cell_type": "code",
   "execution_count": 15,
   "id": "606f13a2",
   "metadata": {},
   "outputs": [],
   "source": [
    "import pandas as pd\n",
    "\n",
    "visits = pd.read_csv('visits.csv', parse_dates=[1])\n",
    "cart = pd.read_csv('cart.csv', parse_dates=[1])\n",
    "checkout = pd.read_csv('checkout.csv', parse_dates=[1])\n",
    "purchase = pd.read_csv('purchase.csv', parse_dates=[1])"
   ]
  },
  {
   "cell_type": "markdown",
   "id": "095268d9",
   "metadata": {},
   "source": [
    "## Funnel for Cool T-Shirts Inc."
   ]
  },
  {
   "cell_type": "code",
   "execution_count": 16,
   "id": "da6842b9",
   "metadata": {},
   "outputs": [
    {
     "name": "stdout",
     "output_type": "stream",
     "text": [
      "                                user_id          visit_time\n",
      "0  943647ef-3682-4750-a2e1-918ba6f16188 2017-04-07 15:14:00\n",
      "1  0c3a3dd0-fb64-4eac-bf84-ba069ce409f2 2017-01-26 14:24:00\n",
      "2  6e0b2d60-4027-4d9a-babd-0e7d40859fb1 2017-08-20 08:23:00\n",
      "3  6879527e-c5a6-4d14-b2da-50b85212b0ab 2017-11-04 18:15:00\n",
      "4  a84327ff-5daa-4ba1-b789-d5b4caf81e96 2017-02-27 11:25:00\n",
      "                                user_id           cart_time\n",
      "0  2be90e7c-9cca-44e0-bcc5-124b945ff168 2017-11-07 20:45:00\n",
      "1  4397f73f-1da3-4ab3-91af-762792e25973 2017-05-27 01:35:00\n",
      "2  a9db3d4b-0a0a-4398-a55a-ebb2c7adf663 2017-03-04 10:38:00\n",
      "3  b594862a-36c5-47d5-b818-6e9512b939b3 2017-09-27 08:22:00\n",
      "4  a68a16e2-94f0-4ce8-8ce3-784af0bbb974 2017-07-26 15:48:00\n",
      "                                user_id       checkout_time\n",
      "0  d33bdc47-4afa-45bc-b4e4-dbe948e34c0d 2017-06-25 09:29:00\n",
      "1  4ac186f0-9954-4fea-8a27-c081e428e34e 2017-04-07 20:11:00\n",
      "2  3c9c78a7-124a-4b77-8d2e-e1926e011e7d 2017-07-13 11:38:00\n",
      "3  89fe330a-8966-4756-8f7c-3bdbcd47279a 2017-04-20 16:15:00\n",
      "4  3ccdaf69-2d30-40de-b083-51372881aedd 2017-01-08 20:52:00\n",
      "                                user_id       purchase_time\n",
      "0  4b44ace4-2721-47a0-b24b-15fbfa2abf85 2017-05-11 04:25:00\n",
      "1  02e684ae-a448-408f-a9ff-dcb4a5c99aac 2017-09-05 08:45:00\n",
      "2  4b4bc391-749e-4b90-ab8f-4f6e3c84d6dc 2017-11-20 20:49:00\n",
      "3  a5dbb25f-3c36-4103-9030-9f7c6241cd8d 2017-01-22 15:18:00\n",
      "4  46a3186d-7f5a-4ab9-87af-84d05bfd4867 2017-06-11 11:32:00\n"
     ]
    }
   ],
   "source": [
    "# inspectimg the dataframes\n",
    "print(visits.head())\n",
    "print(cart.head())\n",
    "print(checkout.head())\n",
    "print(purchase.head())"
   ]
  },
  {
   "cell_type": "code",
   "execution_count": 17,
   "id": "276e1431",
   "metadata": {},
   "outputs": [
    {
     "name": "stdout",
     "output_type": "stream",
     "text": [
      "2000\n",
      "1652\n",
      "0.826\n"
     ]
    }
   ],
   "source": [
    "# Combining visits and cart using a left merge.\n",
    "visits_cart = pd.merge(visits, cart, how='left')\n",
    "\n",
    "print(len(visits_cart))\n",
    "\n",
    "#  Timestamps that are null for the column cart_time\n",
    "null_cart = visits_cart[visits_cart.cart_time.isnull()].user_id.count()\n",
    "print(null_cart) # these are the number of users who visited Cool T-Shirts Inc. but ended up not placing a t-shirt in their cart\n",
    "\n",
    "# Percentage of users who visited Cool T-Shirts Inc. but ended up not placing a t-shirt in their cart\n",
    "percent_null_cart = null_cart / float(len(visits_cart))\n",
    "print(percent_null_cart)"
   ]
  },
  {
   "cell_type": "code",
   "execution_count": 18,
   "id": "4355c990",
   "metadata": {},
   "outputs": [
    {
     "name": "stdout",
     "output_type": "stream",
     "text": [
      "482\n",
      "122\n",
      "0.25311203319502074\n"
     ]
    }
   ],
   "source": [
    "cart_checkout = pd.merge(cart, checkout, how='left')\n",
    "print(len(cart_checkout))\n",
    "\n",
    "null_checkout = len(cart_checkout[cart_checkout.checkout_time.isnull()])\n",
    "print(null_checkout)\n",
    "\n",
    "#percentage of users that put items in their cart but didn't checkout\n",
    "percent_null_ckeckout = null_checkout / float(len(cart_checkout))\n",
    "print(percent_null_ckeckout)\n"
   ]
  },
  {
   "cell_type": "code",
   "execution_count": 19,
   "id": "c92d40d3",
   "metadata": {},
   "outputs": [
    {
     "name": "stdout",
     "output_type": "stream",
     "text": [
      "                                user_id          visit_time  \\\n",
      "0  943647ef-3682-4750-a2e1-918ba6f16188 2017-04-07 15:14:00   \n",
      "1  0c3a3dd0-fb64-4eac-bf84-ba069ce409f2 2017-01-26 14:24:00   \n",
      "2  6e0b2d60-4027-4d9a-babd-0e7d40859fb1 2017-08-20 08:23:00   \n",
      "3  6879527e-c5a6-4d14-b2da-50b85212b0ab 2017-11-04 18:15:00   \n",
      "4  a84327ff-5daa-4ba1-b789-d5b4caf81e96 2017-02-27 11:25:00   \n",
      "\n",
      "            cart_time       checkout_time       purchase_time  \n",
      "0                 NaT                 NaT                 NaT  \n",
      "1 2017-01-26 14:44:00 2017-01-26 14:54:00 2017-01-26 15:08:00  \n",
      "2 2017-08-20 08:31:00                 NaT                 NaT  \n",
      "3                 NaT                 NaT                 NaT  \n",
      "4                 NaT                 NaT                 NaT  \n"
     ]
    }
   ],
   "source": [
    "#7 Merging all the dataframes in order using a series of left merges and saving it to the variable all_data\n",
    "all_data = visits.merge(cart, how = 'left').merge(checkout, how='left').merge(purchase, how = 'left')\n",
    "print(all_data.head())"
   ]
  },
  {
   "cell_type": "code",
   "execution_count": 20,
   "id": "fbb6fc09",
   "metadata": {},
   "outputs": [
    {
     "name": "stdout",
     "output_type": "stream",
     "text": [
      "0.1688963210702341\n"
     ]
    }
   ],
   "source": [
    "checkout_purchase = pd.merge(checkout, purchase, how='left')\n",
    "\n",
    "null_purchase = len(checkout_purchase[checkout_purchase.purchase_time.isnull()])\n",
    "\n",
    "# Percentage of users proceeded to checkout, but did not purchase a t-shirt\n",
    "percent_null_purchase = null_purchase / float(len(checkout_purchase))\n",
    "print(percent_null_purchase)"
   ]
  },
  {
   "cell_type": "markdown",
   "id": "a09917a3",
   "metadata": {},
   "source": [
    "Which step of the funnel is weakest (i.e., has the highest percentage of users not completing it)? <br>\n",
    "Ans: Percentage of users who visited Cool T-Shirts Inc. but ended up not placing a t-shirt in their cart (82.6%)"
   ]
  },
  {
   "cell_type": "markdown",
   "id": "1d50d9b7",
   "metadata": {},
   "source": [
    "## Average Time to Purchase"
   ]
  },
  {
   "cell_type": "code",
   "execution_count": 21,
   "id": "1909aebf",
   "metadata": {},
   "outputs": [
    {
     "name": "stdout",
     "output_type": "stream",
     "text": [
      "0 days 00:43:53.360160965\n"
     ]
    }
   ],
   "source": [
    "all_data['time_to_purchase'] = all_data.purchase_time - all_data.visit_time\n",
    "\n",
    "# print(all_data.time_to_purchase)\n",
    "\n",
    "print(all_data.time_to_purchase.mean()) # calculating the average time to purchase"
   ]
  }
 ],
 "metadata": {
  "kernelspec": {
   "display_name": "Python 3",
   "language": "python",
   "name": "python3"
  },
  "language_info": {
   "codemirror_mode": {
    "name": "ipython",
    "version": 3
   },
   "file_extension": ".py",
   "mimetype": "text/x-python",
   "name": "python",
   "nbconvert_exporter": "python",
   "pygments_lexer": "ipython3",
   "version": "3.8.8"
  }
 },
 "nbformat": 4,
 "nbformat_minor": 5
}
